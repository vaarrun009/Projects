{
 "cells": [
  {
   "cell_type": "code",
   "execution_count": 49,
   "metadata": {},
   "outputs": [],
   "source": [
    "import openai\n",
    "import pandas as pd\n",
    "from googlesearch import search\n",
    "import wikipedia\n",
    "from bs4 import BeautifulSoup\n",
    "import re\n",
    "#from gensim.summarization.summarizer import summarize\n",
    "#from gensim.summarization import keywords\n",
    "import urllib.request\n",
    "import re\n",
    "from textblob import TextBlob\n",
    "from vaderSentiment.vaderSentiment import SentimentIntensityAnalyzer"
   ]
  },
  {
   "cell_type": "markdown",
   "metadata": {},
   "source": [
    "## getting 'url's from google results"
   ]
  },
  {
   "cell_type": "code",
   "execution_count": 42,
   "metadata": {},
   "outputs": [
    {
     "name": "stdout",
     "output_type": "stream",
     "text": [
      "putin\n"
     ]
    }
   ],
   "source": [
    "urls = []\n",
    "#for i in search(\"putin\", lang=\"en\"):\n",
    "#    urls.append(i)\n",
    "for i in search(input(), lang=\"en\"):\n",
    "    urls.append(i)"
   ]
  },
  {
   "cell_type": "code",
   "execution_count": 50,
   "metadata": {},
   "outputs": [
    {
     "data": {
      "text/plain": [
       "['https://en.wikipedia.org/wiki/Vladimir_Putin',\n",
       " 'https://www.business-standard.com/about/who-is-vladimir-putin',\n",
       " 'https://www.hindustantimes.com/world-news/vladimir-putin-news-moldova-russia-ukraine-war-news-vladimir-putin-planning-a-coup-in-this-country-us-says-deeply-concerned-101676355151895.html',\n",
       " 'http://en.kremlin.ru/',\n",
       " 'https://www.aljazeera.com/tag/vladimir-putin/',\n",
       " 'https://www.britannica.com/biography/Vladimir-Putin',\n",
       " 'https://www.wsj.com/topics/person/vladimir-putin',\n",
       " 'https://www.cnn.com/2023/02/16/politics/ukraine-strategy-putin-west/index.html',\n",
       " 'https://timesofindia.indiatimes.com/topic/Vladimir-Putin']"
      ]
     },
     "execution_count": 50,
     "metadata": {},
     "output_type": "execute_result"
    }
   ],
   "source": [
    "urls = list(set(urls))\n",
    "urls"
   ]
  },
  {
   "cell_type": "code",
   "execution_count": null,
   "metadata": {},
   "outputs": [],
   "source": [
    "# urls = ['https://en.wikipedia.org/wiki/Vladimir_Putin',\n",
    "#  'https://www.britannica.com/biography/Vladimir-Putin',\n",
    "#  'http://en.kremlin.ru/',\n",
    "#  'https://www.hindustantimes.com/world-news/vladimir-putin-news-moldova-russia-ukraine-war-news-vladimir-putin-planning-a-coup-in-this-country-us-says-deeply-concerned-101676355151895.html',\n",
    "#  'https://www.hindustantimes.com/world-news/vladimir-putin-news-moldova-russia-ukraine-war-news-vladimir-putin-planning-a-coup-in-this-country-us-says-deeply-concerned-101676355151895.html',\n",
    "#  'https://www.hindustantimes.com/world-news/vladimir-putin-news-moldova-russia-ukraine-war-news-vladimir-putin-planning-a-coup-in-this-country-us-says-deeply-concerned-101676355151895.html',\n",
    "#  'https://www.hindustantimes.com/world-news/vladimir-putin-news-moldova-russia-ukraine-war-news-vladimir-putin-planning-a-coup-in-this-country-us-says-deeply-concerned-101676355151895.html',\n",
    "#  'https://www.reuters.com/world/europe/putin-secure-power-sets-stage-long-draining-war-2023-02-15/',\n",
    "#  'https://www.reuters.com/world/europe/putin-secure-power-sets-stage-long-draining-war-2023-02-15/',\n",
    "#  'https://www.reuters.com/world/europe/putin-secure-power-sets-stage-long-draining-war-2023-02-15/']"
   ]
  },
  {
   "cell_type": "code",
   "execution_count": 51,
   "metadata": {},
   "outputs": [],
   "source": [
    "corpus = {}\n",
    "for url in urls:\n",
    "    request = urllib.request.Request(url)\n",
    "    request.add_header('User-Agent', 'Mozilla/5.0 (Macintosh; Intel Mac OS X 10_15_6) AppleWebKit/537.36 (KHTML, like Gecko) Chrome/87.0.4280.88 Safari/537.36')\n",
    "    raw_response = urllib.request.urlopen(request).read()\n",
    "    soup = BeautifulSoup(raw_response)\n",
    "    soup.find_all()\n",
    "    text = ''\n",
    "    new_text1 = ''\n",
    "    new_text2 = ''\n",
    "    new_text3 = ''\n",
    "    for i in soup.find_all('p'):\n",
    "        text +=str(i)\n",
    "    text = text.replace('\\n','')\n",
    "    text = text.replace('\\t','')\n",
    "    p = re.compile(r'<[^>]+>')\n",
    "    new_text1 = p.sub('', text).replace('\\\\','').replace('\\\\n','')\n",
    "    #print(new_text)\n",
    "    q = re.compile(r\"\\{.*\\}\")\n",
    "    new_text2 = q.sub('',new_text1)\n",
    "    r = re.compile(r'\\[.*?\\]')\n",
    "    new_text3 = r.sub('',new_text2)\n",
    "    corpus[url] = new_text3"
   ]
  },
  {
   "cell_type": "markdown",
   "metadata": {},
   "source": [
    "## Summarization using openai api"
   ]
  },
  {
   "cell_type": "code",
   "execution_count": 52,
   "metadata": {},
   "outputs": [],
   "source": [
    "# api key\n",
    "openai.api_key = \"your_api_key_generated_through_your_account\""
   ]
  },
  {
   "cell_type": "code",
   "execution_count": 53,
   "metadata": {},
   "outputs": [],
   "source": [
    "summary = {}\n",
    "for i in corpus.keys():\n",
    "    prompt = corpus[i][0:3500].split('.')\n",
    "    prompt = '.'.join(prompt[0:len(prompt)-1])\n",
    "    prompt = prompt.replace('\\n','')\n",
    "    prompt = prompt+ ' Tl;dr'        # adding Tl;dr will start summarizing the code\n",
    "    model_engine = \"text-davinci-003\"\n",
    "    max_tokens = 800                # reduced the summary because the result is a summary and here in my case , each corpus is big\n",
    "    completion = openai.Completion.create(\n",
    "        engine=model_engine,\n",
    "        prompt=prompt,\n",
    "        max_tokens=max_tokens,\n",
    "        temperature=0.5,\n",
    "        top_p=1,\n",
    "        frequency_penalty=0,\n",
    "        presence_penalty=0\n",
    "        )\n",
    "    summary[i] = completion.choices[0].text\n",
    "    "
   ]
  },
  {
   "cell_type": "markdown",
   "metadata": {},
   "source": [
    "## Printing the summary of all the links"
   ]
  },
  {
   "cell_type": "code",
   "execution_count": 74,
   "metadata": {},
   "outputs": [
    {
     "name": "stdout",
     "output_type": "stream",
     "text": [
      "\n",
      "\n",
      "Vladimir Putin is a Russian politician who has served as president or prime minister since 1999. He worked as a KGB foreign intelligence officer for 16 years before beginning his political career, and has been reelected in 2004, 2012, and 2018. Under his leadership, Russia has undergone democratic backsliding and a shift to authoritarianism, characterized by corruption and human rights violations. In April 2021, he signed into law constitutional amendments allowing him to potentially extend his presidency to 2036.\n",
      "\n",
      "\n",
      ". It is an acronym used to indicate that a person has not read a long piece of text or is not interested in doing so.\n",
      " - US National Security Council spokesman John Kirby called reports alleging that Russian President Vladimir Putin is plotting a coup in Moldova \"deeply concerning.\" The remarks came after Moldovan President Maia Sandu said that Putin is planning to use foreign saboteurs to destroy Moldova's leadership and stop it from joining the European Union. Russia rejected the accusation, blaming Ukraine for stirring tension between the two countries.\n",
      "\n",
      "\n",
      "This means that all content on this site is licensed under the Creative Commons Attribution 4.0 International (CC BY 4.0) license, which allows anyone to share, adapt, and use the material for any purpose, even commercially, as long as they give appropriate credit to the original author.\n",
      ": Investigators say that while the chain of command to the Russian president is clear, he has immunity as head of state. Sanctions are biting into Russia’s revenue, but the biggest costs of its Ukraine invasion might be yet to come. Ukraine’s president has stripped four people of citizenship, including a Kremlin ally transferred in a prisoner swap. Separatist leader awards Russian president with medal for ‘patriotic concern’ for Bosnia’s Republika Srpska entity. The Kremlin rejects claims that the Russian president is pressuring Belarus into a more active role in the war in Ukraine. The drills come amid a series of escalatory comments from Moscow suggesting the war in Ukraine could turn nuclear. Putin tells Erdogan he will consider resuming deal allowing grain exports from Ukraine if Kyiv provides ‘guarantees’.\n",
      ": Vladimir Putin is a former Russian intelligence officer and a politician who has served as president of Russia from 1999 to 2008 and from 2012 to the present. He was also the country’s prime minister in 1999 and from 2008 to 2012. He has consolidated his rule and projected an image of Russia as a global power, and his actions include annexing Crimea in 2014 and invading Ukraine in 2022.\n",
      ": Vladimir Putin is the current president of Russia, having served in the position since 2012 and previously from 1998-2008. He has also served as Prime Minister of Russia from 1999-2000 and 2008-2012. Putin has been involved in the conflict in Ukraine, attempting to consolidate Moscow's positions in the south and east of the country. Western businesses have pulled out of Russia due to the invasion, and Western leaders have targeted powerful Russians they accuse of profiting from their close ties to the Kremlin. Putin has also used energy as a weapon of financial war, which has backfired and threatened the country's economy. He also proposed a 36-hour truce to mark Russian Orthodox Christmas, but Kyiv dismissed it as a ploy.\n",
      "\n",
      "\n",
      "The West is trying to convince Vladimir Putin that he is losing the war in Ukraine, and is increasing diplomatic and rhetorical pressure ahead of the anniversary of the Russian invasion. However, Putin may not be deterred by a year of defeats and is sending Russian recruits to their deaths. The West is in it for the long haul and is providing Ukraine with weapons and ammunition, but Putin believes Ukraine should be part of Russia. It is uncertain whether he will accept a negotiated resolution.\n",
      ": Naftali Bennett asked Putin if he intended to kill Ukrainian President Volodymyr Zelenskyy, and Putin replied that he would not. Ukrainian President Volodymyr Zelenskyy has successfully lobbied the West for arms to help mount a counter-offensive. Imran Khan claimed that former Army chief General Qamar Javed Bajwa asked him to condemn Russia for invading Ukraine, but he refused. Putin discussed a shortage of drugs in Russia, and NSA Ajit Doval discussed ways to expand India-Russia strategic partnership. Johnson received a phone call ahead of the invasion of Ukraine, and Russia used strategic bombers, cruise missiles and killer drones in a wave of attacks. The Kremlin dismissed the findings of international prosecutors investigating the downing of MH17, and Zelenskyy asked for fighter jets to help ensure Ukraine's victory in the war. An international team of investigators found strong indications that Putin approved the supply of heavy anti-aircraft weapons, and British Prime Minister Rishi Sunak said the UK would continue to support Ukraine. Luke Harding discussed the ongoing war in Ukraine and how Putin is looking for a space in history.\n"
     ]
    }
   ],
   "source": [
    "print('\\n'.join(summary.values()).replace('\\\\','').replace('\\xad','').replace('Tl;dr stands for \"too long; didn\\'t read\"',''))"
   ]
  },
  {
   "cell_type": "markdown",
   "metadata": {},
   "source": [
    "## Sentiment analysis of each article on the given topic"
   ]
  },
  {
   "cell_type": "code",
   "execution_count": 54,
   "metadata": {},
   "outputs": [],
   "source": [
    "sentiments = {}\n",
    "for i in summary.keys():\n",
    "    analyzer = SentimentIntensityAnalyzer()\n",
    "    sentiments[i] = analyzer.polarity_scores(corpus[i])"
   ]
  },
  {
   "cell_type": "code",
   "execution_count": 55,
   "metadata": {
    "scrolled": false
   },
   "outputs": [
    {
     "data": {
      "text/plain": [
       "{'https://en.wikipedia.org/wiki/Vladimir_Putin': {'neg': 0.091,\n",
       "  'neu': 0.815,\n",
       "  'pos': 0.094,\n",
       "  'compound': -0.7528},\n",
       " 'https://www.business-standard.com/about/who-is-vladimir-putin': {'neg': 0.0,\n",
       "  'neu': 1.0,\n",
       "  'pos': 0.0,\n",
       "  'compound': 0.0},\n",
       " 'https://www.hindustantimes.com/world-news/vladimir-putin-news-moldova-russia-ukraine-war-news-vladimir-putin-planning-a-coup-in-this-country-us-says-deeply-concerned-101676355151895.html': {'neg': 0.112,\n",
       "  'neu': 0.85,\n",
       "  'pos': 0.039,\n",
       "  'compound': -0.9581},\n",
       " 'http://en.kremlin.ru/': {'neg': 0.0,\n",
       "  'neu': 1.0,\n",
       "  'pos': 0.0,\n",
       "  'compound': 0.0},\n",
       " 'https://www.aljazeera.com/tag/vladimir-putin/': {'neg': 0.073,\n",
       "  'neu': 0.871,\n",
       "  'pos': 0.056,\n",
       "  'compound': -0.7543},\n",
       " 'https://www.britannica.com/biography/Vladimir-Putin': {'neg': 0.039,\n",
       "  'neu': 0.864,\n",
       "  'pos': 0.097,\n",
       "  'compound': 0.997},\n",
       " 'https://www.wsj.com/topics/person/vladimir-putin': {'neg': 0.125,\n",
       "  'neu': 0.82,\n",
       "  'pos': 0.056,\n",
       "  'compound': -0.9898},\n",
       " 'https://www.cnn.com/2023/02/16/politics/ukraine-strategy-putin-west/index.html': {'neg': 0.147,\n",
       "  'neu': 0.784,\n",
       "  'pos': 0.069,\n",
       "  'compound': -0.9988},\n",
       " 'https://timesofindia.indiatimes.com/topic/Vladimir-Putin': {'neg': 0.093,\n",
       "  'neu': 0.82,\n",
       "  'pos': 0.088,\n",
       "  'compound': -0.7703}}"
      ]
     },
     "execution_count": 55,
     "metadata": {},
     "output_type": "execute_result"
    }
   ],
   "source": [
    "sentiments"
   ]
  },
  {
   "cell_type": "markdown",
   "metadata": {},
   "source": [
    "## Sentiment DataFrame"
   ]
  },
  {
   "cell_type": "code",
   "execution_count": 59,
   "metadata": {},
   "outputs": [
    {
     "data": {
      "text/html": [
       "<div>\n",
       "<style scoped>\n",
       "    .dataframe tbody tr th:only-of-type {\n",
       "        vertical-align: middle;\n",
       "    }\n",
       "\n",
       "    .dataframe tbody tr th {\n",
       "        vertical-align: top;\n",
       "    }\n",
       "\n",
       "    .dataframe thead th {\n",
       "        text-align: right;\n",
       "    }\n",
       "</style>\n",
       "<table border=\"1\" class=\"dataframe\">\n",
       "  <thead>\n",
       "    <tr style=\"text-align: right;\">\n",
       "      <th></th>\n",
       "      <th>wikipedia</th>\n",
       "      <th>business-standard</th>\n",
       "      <th>hindustantimes</th>\n",
       "      <th>kremlin</th>\n",
       "      <th>aljazeera</th>\n",
       "      <th>britannica</th>\n",
       "      <th>wsj</th>\n",
       "      <th>cnn</th>\n",
       "      <th>indiatimes</th>\n",
       "    </tr>\n",
       "  </thead>\n",
       "  <tbody>\n",
       "    <tr>\n",
       "      <th>neg</th>\n",
       "      <td>0.0910</td>\n",
       "      <td>0.0</td>\n",
       "      <td>0.1120</td>\n",
       "      <td>0.0</td>\n",
       "      <td>0.0730</td>\n",
       "      <td>0.039</td>\n",
       "      <td>0.1250</td>\n",
       "      <td>0.1470</td>\n",
       "      <td>0.0930</td>\n",
       "    </tr>\n",
       "    <tr>\n",
       "      <th>neu</th>\n",
       "      <td>0.8150</td>\n",
       "      <td>1.0</td>\n",
       "      <td>0.8500</td>\n",
       "      <td>1.0</td>\n",
       "      <td>0.8710</td>\n",
       "      <td>0.864</td>\n",
       "      <td>0.8200</td>\n",
       "      <td>0.7840</td>\n",
       "      <td>0.8200</td>\n",
       "    </tr>\n",
       "    <tr>\n",
       "      <th>pos</th>\n",
       "      <td>0.0940</td>\n",
       "      <td>0.0</td>\n",
       "      <td>0.0390</td>\n",
       "      <td>0.0</td>\n",
       "      <td>0.0560</td>\n",
       "      <td>0.097</td>\n",
       "      <td>0.0560</td>\n",
       "      <td>0.0690</td>\n",
       "      <td>0.0880</td>\n",
       "    </tr>\n",
       "    <tr>\n",
       "      <th>compound</th>\n",
       "      <td>-0.7528</td>\n",
       "      <td>0.0</td>\n",
       "      <td>-0.9581</td>\n",
       "      <td>0.0</td>\n",
       "      <td>-0.7543</td>\n",
       "      <td>0.997</td>\n",
       "      <td>-0.9898</td>\n",
       "      <td>-0.9988</td>\n",
       "      <td>-0.7703</td>\n",
       "    </tr>\n",
       "  </tbody>\n",
       "</table>\n",
       "</div>"
      ],
      "text/plain": [
       "          wikipedia  business-standard  hindustantimes  kremlin  aljazeera  \\\n",
       "neg          0.0910                0.0          0.1120      0.0     0.0730   \n",
       "neu          0.8150                1.0          0.8500      1.0     0.8710   \n",
       "pos          0.0940                0.0          0.0390      0.0     0.0560   \n",
       "compound    -0.7528                0.0         -0.9581      0.0    -0.7543   \n",
       "\n",
       "          britannica     wsj     cnn  indiatimes  \n",
       "neg            0.039  0.1250  0.1470      0.0930  \n",
       "neu            0.864  0.8200  0.7840      0.8200  \n",
       "pos            0.097  0.0560  0.0690      0.0880  \n",
       "compound       0.997 -0.9898 -0.9988     -0.7703  "
      ]
     },
     "execution_count": 59,
     "metadata": {},
     "output_type": "execute_result"
    }
   ],
   "source": [
    "sentiment_dataframe = pd.DataFrame(sentiments)\n",
    "sentiment_dataframe.columns = [i.split('.')[1] for i in corpus.keys()]\n",
    "sentiment_dataframe"
   ]
  },
  {
   "cell_type": "markdown",
   "metadata": {},
   "source": [
    "# Majority of the websites have high negative compound polarity for the given input ( a person's name here i.e, putin)"
   ]
  },
  {
   "cell_type": "code",
   "execution_count": 76,
   "metadata": {},
   "outputs": [
    {
     "data": {
      "text/plain": [
       "'RUN_ID,FK_LOCATION_ID,LOCATION_CODE,FK_DATE_ID,RUN_DATE,FK_BOT_ID,BOT_ID,SCHEDULE_ID,SCHEDULE_TIMESTAMP,SCHEDULE_NAME,FK_STATUS_ID,RUN_STATUS,RUN_DURATION,NUM_TAGS_READ,AVG_CERTAINTY,REQUIRES_HANDSCAN,FK_ERROR_ID,FAILURE_REASON,SUCCESS_COUNT,FAILURE_COUNT,RUN_COMPLETION,RUN_ACCEPTED,RUN_QUALITY,EPC_COUNT_MET,EPC_COUNT,SUM_QUANTITY_RECORDED,SUM_QUANTITY_IPS,INVENTORY_ACCURACY,INSERTED_TS,MODIFIED_TS'"
      ]
     },
     "execution_count": 76,
     "metadata": {},
     "output_type": "execute_result"
    }
   ],
   "source": [
    "','.join('''RUN_ID\n",
    "FK_LOCATION_ID\n",
    "LOCATION_CODE\n",
    "FK_DATE_ID\n",
    "RUN_DATE\n",
    "FK_BOT_ID\n",
    "BOT_ID\n",
    "SCHEDULE_ID\n",
    "SCHEDULE_TIMESTAMP\n",
    "SCHEDULE_NAME\n",
    "FK_STATUS_ID\n",
    "RUN_STATUS\n",
    "RUN_DURATION\n",
    "NUM_TAGS_READ\n",
    "AVG_CERTAINTY\n",
    "REQUIRES_HANDSCAN\n",
    "FK_ERROR_ID\n",
    "FAILURE_REASON\n",
    "SUCCESS_COUNT\n",
    "FAILURE_COUNT\n",
    "RUN_COMPLETION\n",
    "RUN_ACCEPTED\n",
    "RUN_QUALITY\n",
    "EPC_COUNT_MET\n",
    "EPC_COUNT\n",
    "SUM_QUANTITY_RECORDED\n",
    "SUM_QUANTITY_IPS\n",
    "INVENTORY_ACCURACY\n",
    "INSERTED_TS\n",
    "MODIFIED_TS'''.split('\\n'))"
   ]
  },
  {
   "cell_type": "code",
   "execution_count": null,
   "metadata": {},
   "outputs": [],
   "source": []
  }
 ],
 "metadata": {
  "kernelspec": {
   "display_name": "Python 3 (ipykernel)",
   "language": "python",
   "name": "python3"
  },
  "language_info": {
   "codemirror_mode": {
    "name": "ipython",
    "version": 3
   },
   "file_extension": ".py",
   "mimetype": "text/x-python",
   "name": "python",
   "nbconvert_exporter": "python",
   "pygments_lexer": "ipython3",
   "version": "3.11.2"
  }
 },
 "nbformat": 4,
 "nbformat_minor": 4
}
